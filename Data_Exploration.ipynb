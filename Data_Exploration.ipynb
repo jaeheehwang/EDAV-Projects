{
 "cells": [
  {
   "cell_type": "markdown",
   "metadata": {},
   "source": [
    "# EDAV Project - Data Exploration"
   ]
  },
  {
   "cell_type": "code",
   "execution_count": 1,
   "metadata": {
    "collapsed": false
   },
   "outputs": [],
   "source": [
    "import pandas as pd\n",
    "\n",
    "df = pd.read_csv('responses_clean.csv')\n",
    "df.drop('Unnamed: 0', axis=1, inplace=True)"
   ]
  },
  {
   "cell_type": "markdown",
   "metadata": {},
   "source": [
    "## Check out the column names"
   ]
  },
  {
   "cell_type": "code",
   "execution_count": 2,
   "metadata": {
    "collapsed": false
   },
   "outputs": [
    {
     "data": {
      "text/plain": [
       "['Are you on the waiting list?',\n",
       " 'Program',\n",
       " 'Programming and Analytical Experiences [R, data manipulation and modeling]',\n",
       " 'What code/text editor do you use most?',\n",
       " 'Programming and Analytical Experiences [R, graphic basics (base, lattice, grid etc. )]',\n",
       " 'Programming and Analytical Experiences [R, advanced (multivariate data analysis, e.g. spatiotemporal data, visualization and modeling)]',\n",
       " 'Programming and Analytical Experiences [Reproducible documentation with R (e.g. R Markdown)]',\n",
       " 'Programming and Analytical Experiences [Matlab, data manipulation, analysis, visualization and modeling]',\n",
       " 'Programming and Analytical Experiences [Github]',\n",
       " 'R',\n",
       " 'Excel',\n",
       " 'SQL',\n",
       " 'RStudio',\n",
       " 'ggplot2',\n",
       " 'Python',\n",
       " 'Stata',\n",
       " 'dropbox',\n",
       " 'google drive (formerly docs)',\n",
       " 'regular expressions (grep)',\n",
       " 'Github',\n",
       " 'shell (terminal / command line)',\n",
       " 'LaTeX',\n",
       " 'Sweave/knitr',\n",
       " 'XML',\n",
       " 'Web: html css js',\n",
       " 'C/C++',\n",
       " 'Matlab',\n",
       " 'SPSS',\n",
       " 'lattice']"
      ]
     },
     "execution_count": 2,
     "metadata": {},
     "output_type": "execute_result"
    }
   ],
   "source": [
    "list(df)"
   ]
  },
  {
   "cell_type": "markdown",
   "metadata": {},
   "source": [
    "## Number of responses for each program\n",
    "Programs other than the top three are either too few or not very specific, so combine them into one \"Others\" category for analysis below"
   ]
  },
  {
   "cell_type": "code",
   "execution_count": 3,
   "metadata": {
    "collapsed": false
   },
   "outputs": [
    {
     "data": {
      "text/plain": [
       "IDSE (master)                 56\n",
       "Data Science Certification    22\n",
       "Statistics (master)           17\n",
       "Other masters                 11\n",
       "QMSS (master)                  3\n",
       "Ph.D.                          2\n",
       "PhD Biomedical Informatics     1\n",
       "Data Science                   1\n",
       "Applied Math                   1\n",
       "dtype: int64"
      ]
     },
     "execution_count": 3,
     "metadata": {},
     "output_type": "execute_result"
    }
   ],
   "source": [
    "df['Program'].astype('category').value_counts()"
   ]
  },
  {
   "cell_type": "markdown",
   "metadata": {},
   "source": [
    "## Mean self-reported confidence level for each program\n"
   ]
  },
  {
   "cell_type": "code",
   "execution_count": 4,
   "metadata": {
    "collapsed": false
   },
   "outputs": [
    {
     "data": {
      "text/html": [
       "<div>\n",
       "<table border=\"1\" class=\"dataframe\">\n",
       "  <thead>\n",
       "    <tr style=\"text-align: right;\">\n",
       "      <th>Program</th>\n",
       "      <th>Data Science Certification</th>\n",
       "      <th>IDSE (master)</th>\n",
       "      <th>Statistics (master)</th>\n",
       "      <th>Others</th>\n",
       "    </tr>\n",
       "  </thead>\n",
       "  <tbody>\n",
       "    <tr>\n",
       "      <th>R, Data manipulation and modeling</th>\n",
       "      <td>1.227</td>\n",
       "      <td>1.661</td>\n",
       "      <td>1.941</td>\n",
       "      <td>1.513</td>\n",
       "    </tr>\n",
       "    <tr>\n",
       "      <th>R, Graphics</th>\n",
       "      <td>0.682</td>\n",
       "      <td>1.143</td>\n",
       "      <td>1.294</td>\n",
       "      <td>1.215</td>\n",
       "    </tr>\n",
       "    <tr>\n",
       "      <th>R, Advanced</th>\n",
       "      <td>0.500</td>\n",
       "      <td>0.982</td>\n",
       "      <td>1.294</td>\n",
       "      <td>0.821</td>\n",
       "    </tr>\n",
       "    <tr>\n",
       "      <th>RMarkdown</th>\n",
       "      <td>0.591</td>\n",
       "      <td>1.107</td>\n",
       "      <td>0.588</td>\n",
       "      <td>1.172</td>\n",
       "    </tr>\n",
       "    <tr>\n",
       "      <th>Matlab, visualization, etc.</th>\n",
       "      <td>0.636</td>\n",
       "      <td>0.929</td>\n",
       "      <td>0.882</td>\n",
       "      <td>0.553</td>\n",
       "    </tr>\n",
       "    <tr>\n",
       "      <th>Github</th>\n",
       "      <td>1.182</td>\n",
       "      <td>0.911</td>\n",
       "      <td>0.882</td>\n",
       "      <td>1.333</td>\n",
       "    </tr>\n",
       "  </tbody>\n",
       "</table>\n",
       "</div>"
      ],
      "text/plain": [
       "Program                            Data Science Certification  IDSE (master)  \\\n",
       "R, Data manipulation and modeling                       1.227          1.661   \n",
       "R, Graphics                                             0.682          1.143   \n",
       "R, Advanced                                             0.500          0.982   \n",
       "RMarkdown                                               0.591          1.107   \n",
       "Matlab, visualization, etc.                             0.636          0.929   \n",
       "Github                                                  1.182          0.911   \n",
       "\n",
       "Program                            Statistics (master)  Others  \n",
       "R, Data manipulation and modeling                1.941   1.513  \n",
       "R, Graphics                                      1.294   1.215  \n",
       "R, Advanced                                      1.294   0.821  \n",
       "RMarkdown                                        0.588   1.172  \n",
       "Matlab, visualization, etc.                      0.882   0.553  \n",
       "Github                                           0.882   1.333  "
      ]
     },
     "execution_count": 4,
     "metadata": {},
     "output_type": "execute_result"
    }
   ],
   "source": [
    "skill_level = df.iloc[:,[1,2,4,5,6,7,8]]\n",
    "skill_level = skill_level.groupby('Program').mean()\n",
    "skill_level.columns = ['R, Data manipulation and modeling', 'R, Graphics', 'R, Advanced', 'RMarkdown', 'Matlab, visualization, etc.', 'Github']\n",
    "\n",
    "skill_level_major = skill_level.ix[[2,3,8]].round(3)\n",
    "skill_level_minor = skill_level.ix[[0,1,4,5,6,7]].mean().round(3)\n",
    "skill_level_minor.name = 'Others'\n",
    "\n",
    "skill_level = skill_level_major.append(skill_level_minor).transpose()\n",
    "skill_level.to_json('d3/skill_level.json')\n",
    "skill_level"
   ]
  },
  {
   "cell_type": "markdown",
   "metadata": {},
   "source": [
    "## Proportion of students reporting being familiar with each tool for each program\n",
    "For use in the heatmap in R"
   ]
  },
  {
   "cell_type": "code",
   "execution_count": 5,
   "metadata": {
    "collapsed": false
   },
   "outputs": [
    {
     "data": {
      "text/html": [
       "<div>\n",
       "<table border=\"1\" class=\"dataframe\">\n",
       "  <thead>\n",
       "    <tr style=\"text-align: right;\">\n",
       "      <th>Program</th>\n",
       "      <th>Data Science Certification</th>\n",
       "      <th>IDSE (master)</th>\n",
       "      <th>Statistics (master)</th>\n",
       "      <th>Others</th>\n",
       "    </tr>\n",
       "  </thead>\n",
       "  <tbody>\n",
       "    <tr>\n",
       "      <th>R</th>\n",
       "      <td>0.591</td>\n",
       "      <td>0.821</td>\n",
       "      <td>0.882</td>\n",
       "      <td>0.803</td>\n",
       "    </tr>\n",
       "    <tr>\n",
       "      <th>Excel</th>\n",
       "      <td>0.864</td>\n",
       "      <td>0.661</td>\n",
       "      <td>0.529</td>\n",
       "      <td>0.553</td>\n",
       "    </tr>\n",
       "    <tr>\n",
       "      <th>SQL</th>\n",
       "      <td>0.591</td>\n",
       "      <td>0.554</td>\n",
       "      <td>0.176</td>\n",
       "      <td>0.437</td>\n",
       "    </tr>\n",
       "    <tr>\n",
       "      <th>RStudio</th>\n",
       "      <td>0.545</td>\n",
       "      <td>0.804</td>\n",
       "      <td>0.882</td>\n",
       "      <td>0.720</td>\n",
       "    </tr>\n",
       "    <tr>\n",
       "      <th>ggplot2</th>\n",
       "      <td>0.136</td>\n",
       "      <td>0.268</td>\n",
       "      <td>0.353</td>\n",
       "      <td>0.422</td>\n",
       "    </tr>\n",
       "    <tr>\n",
       "      <th>Python</th>\n",
       "      <td>0.727</td>\n",
       "      <td>0.893</td>\n",
       "      <td>0.353</td>\n",
       "      <td>0.856</td>\n",
       "    </tr>\n",
       "    <tr>\n",
       "      <th>Stata</th>\n",
       "      <td>0.136</td>\n",
       "      <td>0.143</td>\n",
       "      <td>0.118</td>\n",
       "      <td>0.308</td>\n",
       "    </tr>\n",
       "    <tr>\n",
       "      <th>dropbox</th>\n",
       "      <td>0.636</td>\n",
       "      <td>0.607</td>\n",
       "      <td>0.412</td>\n",
       "      <td>0.702</td>\n",
       "    </tr>\n",
       "    <tr>\n",
       "      <th>google drive (formerly docs)</th>\n",
       "      <td>0.818</td>\n",
       "      <td>0.732</td>\n",
       "      <td>0.412</td>\n",
       "      <td>0.604</td>\n",
       "    </tr>\n",
       "    <tr>\n",
       "      <th>regular expressions (grep)</th>\n",
       "      <td>0.227</td>\n",
       "      <td>0.125</td>\n",
       "      <td>0.000</td>\n",
       "      <td>0.434</td>\n",
       "    </tr>\n",
       "    <tr>\n",
       "      <th>Github</th>\n",
       "      <td>0.409</td>\n",
       "      <td>0.375</td>\n",
       "      <td>0.294</td>\n",
       "      <td>0.548</td>\n",
       "    </tr>\n",
       "    <tr>\n",
       "      <th>shell (terminal / command line)</th>\n",
       "      <td>0.500</td>\n",
       "      <td>0.393</td>\n",
       "      <td>0.000</td>\n",
       "      <td>0.684</td>\n",
       "    </tr>\n",
       "    <tr>\n",
       "      <th>LaTeX</th>\n",
       "      <td>0.091</td>\n",
       "      <td>0.375</td>\n",
       "      <td>0.235</td>\n",
       "      <td>0.391</td>\n",
       "    </tr>\n",
       "    <tr>\n",
       "      <th>Sweave/knitr</th>\n",
       "      <td>0.045</td>\n",
       "      <td>0.071</td>\n",
       "      <td>0.000</td>\n",
       "      <td>0.141</td>\n",
       "    </tr>\n",
       "    <tr>\n",
       "      <th>XML</th>\n",
       "      <td>0.227</td>\n",
       "      <td>0.125</td>\n",
       "      <td>0.059</td>\n",
       "      <td>0.056</td>\n",
       "    </tr>\n",
       "    <tr>\n",
       "      <th>Web: html css js</th>\n",
       "      <td>0.273</td>\n",
       "      <td>0.250</td>\n",
       "      <td>0.059</td>\n",
       "      <td>0.169</td>\n",
       "    </tr>\n",
       "    <tr>\n",
       "      <th>C/C++</th>\n",
       "      <td>0.182</td>\n",
       "      <td>0.339</td>\n",
       "      <td>0.353</td>\n",
       "      <td>0.379</td>\n",
       "    </tr>\n",
       "    <tr>\n",
       "      <th>Matlab</th>\n",
       "      <td>0.182</td>\n",
       "      <td>0.375</td>\n",
       "      <td>0.412</td>\n",
       "      <td>0.215</td>\n",
       "    </tr>\n",
       "    <tr>\n",
       "      <th>SPSS</th>\n",
       "      <td>0.000</td>\n",
       "      <td>0.143</td>\n",
       "      <td>0.176</td>\n",
       "      <td>0.086</td>\n",
       "    </tr>\n",
       "    <tr>\n",
       "      <th>lattice</th>\n",
       "      <td>0.000</td>\n",
       "      <td>0.018</td>\n",
       "      <td>0.000</td>\n",
       "      <td>0.071</td>\n",
       "    </tr>\n",
       "  </tbody>\n",
       "</table>\n",
       "</div>"
      ],
      "text/plain": [
       "Program                          Data Science Certification  IDSE (master)  \\\n",
       "R                                                     0.591          0.821   \n",
       "Excel                                                 0.864          0.661   \n",
       "SQL                                                   0.591          0.554   \n",
       "RStudio                                               0.545          0.804   \n",
       "ggplot2                                               0.136          0.268   \n",
       "Python                                                0.727          0.893   \n",
       "Stata                                                 0.136          0.143   \n",
       "dropbox                                               0.636          0.607   \n",
       "google drive (formerly docs)                          0.818          0.732   \n",
       "regular expressions (grep)                            0.227          0.125   \n",
       "Github                                                0.409          0.375   \n",
       "shell (terminal / command line)                       0.500          0.393   \n",
       "LaTeX                                                 0.091          0.375   \n",
       "Sweave/knitr                                          0.045          0.071   \n",
       "XML                                                   0.227          0.125   \n",
       "Web: html css js                                      0.273          0.250   \n",
       "C/C++                                                 0.182          0.339   \n",
       "Matlab                                                0.182          0.375   \n",
       "SPSS                                                  0.000          0.143   \n",
       "lattice                                               0.000          0.018   \n",
       "\n",
       "Program                          Statistics (master)  Others  \n",
       "R                                              0.882   0.803  \n",
       "Excel                                          0.529   0.553  \n",
       "SQL                                            0.176   0.437  \n",
       "RStudio                                        0.882   0.720  \n",
       "ggplot2                                        0.353   0.422  \n",
       "Python                                         0.353   0.856  \n",
       "Stata                                          0.118   0.308  \n",
       "dropbox                                        0.412   0.702  \n",
       "google drive (formerly docs)                   0.412   0.604  \n",
       "regular expressions (grep)                     0.000   0.434  \n",
       "Github                                         0.294   0.548  \n",
       "shell (terminal / command line)                0.000   0.684  \n",
       "LaTeX                                          0.235   0.391  \n",
       "Sweave/knitr                                   0.000   0.141  \n",
       "XML                                            0.059   0.056  \n",
       "Web: html css js                               0.059   0.169  \n",
       "C/C++                                          0.353   0.379  \n",
       "Matlab                                         0.412   0.215  \n",
       "SPSS                                           0.176   0.086  \n",
       "lattice                                        0.000   0.071  "
      ]
     },
     "execution_count": 5,
     "metadata": {},
     "output_type": "execute_result"
    }
   ],
   "source": [
    "skills = pd.concat([df.iloc[:,1], df.iloc[:,9:]], axis=1)\n",
    "skills = skills.groupby('Program').mean()\n",
    "skills_major = skills.ix[[2,3,8]].round(3)\n",
    "skills_minor = skills.ix[[0,1,4,5,6,7]].mean().round(3)\n",
    "skills_minor.name = 'Others'\n",
    "\n",
    "skills = skills_major.append(skills_minor).transpose()\n",
    "skills.to_csv('heatmaps/skills.csv')\n",
    "skills"
   ]
  },
  {
   "cell_type": "code",
   "execution_count": null,
   "metadata": {
    "collapsed": true
   },
   "outputs": [],
   "source": []
  }
 ],
 "metadata": {
  "kernelspec": {
   "display_name": "Python 3",
   "language": "python",
   "name": "python3"
  },
  "language_info": {
   "codemirror_mode": {
    "name": "ipython",
    "version": 3
   },
   "file_extension": ".py",
   "mimetype": "text/x-python",
   "name": "python",
   "nbconvert_exporter": "python",
   "pygments_lexer": "ipython3",
   "version": "3.5.1"
  }
 },
 "nbformat": 4,
 "nbformat_minor": 0
}
